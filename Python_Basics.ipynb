{
  "nbformat": 4,
  "nbformat_minor": 0,
  "metadata": {
    "colab": {
      "provenance": []
    },
    "kernelspec": {
      "name": "python3",
      "display_name": "Python 3"
    },
    "language_info": {
      "name": "python"
    }
  },
  "cells": [
    {
      "cell_type": "markdown",
      "source": [
        "# Assignment for Python Basics in PWskills"
      ],
      "metadata": {
        "id": "D8bcRMSPiLvD"
      }
    },
    {
      "cell_type": "markdown",
      "source": [
        "# Python Basics Questions"
      ],
      "metadata": {
        "id": "Cr_HSA0QeIX-"
      }
    },
    {
      "cell_type": "markdown",
      "source": [
        "1. What is Python, and why is it popular?\n",
        "  - Python is a high-level, interpreted programming language known for its simplicity and readability.\n",
        "  -Reasons for its popularity:\n",
        "    * Easy syntax similar to English\n",
        "    * Extensive libraries and frameworks\n",
        "    * Versatile (web, data science, automation, AI, etc.)\n",
        "    * Strong community support\n",
        "    * Cross-platform compatibility"
      ],
      "metadata": {
        "id": "7IyPyMgqis1T"
      }
    },
    {
      "cell_type": "markdown",
      "source": [
        "2. What is an interpreter in Python?\n",
        "  - An interpreter is a program that executes Python code line by line. It translates Python code into machine code at runtime, allowing for interactive programming and easier debugging."
      ],
      "metadata": {
        "id": "JKioWqbSeVhb"
      }
    },
    {
      "cell_type": "markdown",
      "source": [
        "3. What are pre-defined keywords in Python?\n",
        "  - Pre-defined keywords are reserved words in Python that have special meaning and are part of the language syntax, such as if, else, for, def, class, return, etc."
      ],
      "metadata": {
        "id": "iHVH1U0BeVwT"
      }
    },
    {
      "cell_type": "markdown",
      "source": [
        "4. Can keywords be used as variable names?\n",
        "  - No, keywords cannot be used as variable names because Python uses them to define the structure and rules of the program. Doing so causes a SyntaxError."
      ],
      "metadata": {
        "id": "4bSuFAmbeWCN"
      }
    },
    {
      "cell_type": "markdown",
      "source": [
        "5. What is mutability in Python?\n",
        "  - Mutability refers to whether an object’s content can be changed after it’s created.\n",
        "  - Mutable: Can be changed (e.g., list, dict, set)\n",
        "  -Immutable: Cannot be changed (e.g., int, float, str, tuple)"
      ],
      "metadata": {
        "id": "MA0MIrPGeWO9"
      }
    },
    {
      "cell_type": "markdown",
      "source": [
        "6. Why are lists mutable, but tuples are immutable?\n",
        "  \n",
        "  * Lists are Mutable\n",
        "    - Definition: You can change, add, or remove elements after the list is created.\n",
        "    - Why? Lists are designed to be flexible and dynamic.\n",
        "      > Useful for storing sequences of items that may change (e.g., to-do lists, growing data).\n",
        "\n",
        "      > Supports operations like .append(), .extend(), .remove(), etc.\n",
        "    - Lists store pointers to objects and manage their size dynamically.\n",
        "\n",
        "  * Tuples are Immutable\n",
        "    - Definition: Once a tuple is created, you cannot change its contents.\n",
        "    - Why? Tuples are meant to be fixed collections — like records or keys.\n",
        "        > It Enables performance optimizations.\n",
        "      \n",
        "        > Safe to use as dictionary keys or elements of sets (which require immutability).\n",
        "      \n",
        "        > Encourages safer code by preventing unintended changes.\n",
        "    - Tuples are implemented for space and speed efficiency, since their size and content are fixed."
      ],
      "metadata": {
        "id": "x1VXnRcteWcH"
      }
    },
    {
      "cell_type": "markdown",
      "source": [
        "7. What is the difference between “==” and “is” operators in Python?\n",
        "  In Python, == and is are two different operators used for comparison, but they serve different purposes:\n",
        "    * == (Equality Operator)\n",
        "      - Purpose: Compares values of two objects.\n",
        "      - Result: Returns True if the values are equal, regardless of whether they are the same object in memory.\n",
        "      - Example:\n",
        "        >       a = [1, 2, 3]\n",
        "        >       b = [1, 2, 3]\n",
        "        >       print(a == b)  # True → Values are the same\n",
        "\n",
        "  *  is (Identity Operator)\n",
        "      - Purpose: Checks whether two variables refer to the same object in memory.\n",
        "      - Result: Returns True only if both variables point to the exact same object (same memory location).\n",
        "      - Example:\n",
        "        >       a = [1, 2, 3]\n",
        "        >       b = [1, 2, 3]\n",
        "        >       print(a == b)  # False → Different objects in memory"
      ],
      "metadata": {
        "id": "1GeYT8i2eWxT"
      }
    },
    {
      "cell_type": "markdown",
      "source": [
        "8. What are logical operators in Python?\n",
        "  * Logical operators are used to perform logical operations on boolean values (i.e., True or False). They are typically used in conditional statements to combine multiple conditions.\n",
        "    - and: True if both operands are True\n",
        "    - or: True if at least one operand is True\n",
        "    - not: Reverses the truth value"
      ],
      "metadata": {
        "id": "_o2h_57rvzsz"
      }
    },
    {
      "cell_type": "markdown",
      "source": [
        "9. What is type casting in Python ?\n",
        "  * Type casting means converting a variable from one data type to another (e.g., int to float, str to int).\n",
        "  * Two Types of Type Casting\n",
        "    - Implicit Type Casting (Automatic)\n",
        "        > Python automatically converts one data type to another when needed.\n",
        "    - Explicit Type Casting (Manual)\n",
        "        > You manually convert the type using functions like: int(), float(), str(), bool(), list(), etc.\n",
        "\n",
        "\n",
        "    "
      ],
      "metadata": {
        "id": "e5kf1IjZRMfH"
      }
    },
    {
      "cell_type": "markdown",
      "source": [
        "10. What is the difference between implicit and explicit type casting?\n",
        "    - Implicit Type Casting (Automatic)\n",
        "        * Python automatically converts one data type to another when needed.\n",
        "          > Performed by Python automatically\n",
        "\n",
        "          > No loss of data\n",
        "          \n",
        "          > Happens when Python safely converts a value from one data type to another.\n",
        "    - Explicit Type Casting (Manual)\n",
        "        * You manually convert the type using functions like: int(), float(), str(), bool(), list(), etc.\n",
        "          > Performed by the programmer\n",
        "\n",
        "          > You use functions like int(), float(), str(), etc.\n",
        "\n",
        "          > Might cause loss of data (e.g., decimal part of float)"
      ],
      "metadata": {
        "id": "tN9mGcfTe2E7"
      }
    },
    {
      "cell_type": "markdown",
      "source": [
        "11. What is the purpose of conditional statements in Python?\n",
        "  - The purpose of conditional statements is to control the flow of a program by making decisions based on conditions.\n",
        "  - In other word: Conditional statements let your program perform different actions depending on whether a condition is True or False.\n",
        "  - Conditional statements control the flow of execution based on conditions (e.g., if, elif, else). They allow your program to make decisions and run different blocks of code."
      ],
      "metadata": {
        "id": "d1WtHR67UJjv"
      }
    },
    {
      "cell_type": "markdown",
      "source": [
        "12. How does the elif statement work?\n",
        "  - The elif statement in Python is short for \"else if\" and is used in conditional statements to check multiple conditions. It allows you to test several expressions for True, one after another, and execute a block of code as soon as one condition is True.\n",
        "  - Syntax:\n",
        "      >       if condition1:\n",
        "      >         code block 1\n",
        "      >       elif condition2:\n",
        "      >         code block 2\n",
        "      >       elif condition3:\n",
        "      >         code block 3\n",
        "      >       else:\n",
        "      >         code block 3\n",
        "\n",
        "  - How it works:\n",
        "      * Python checks conditions from top to bottom:\n",
        "      * If condition1 is True, it runs code block 1 and skips the rest.\n",
        "      * If condition1 is False, it checks condition2.\n",
        "      * It continues down until one is True, or goes to else.\n",
        "\n",
        "\n"
      ],
      "metadata": {
        "id": "g8cUxWOzfBid"
      }
    },
    {
      "cell_type": "markdown",
      "source": [
        "13. What is the difference between for and while loops?\n",
        "  * The for and while loops in Python are both used for iteration, but they differ in how and when they execute.\n",
        "  * for Loop\n",
        "      - When you know in advance how many times you want to loop (e.g., iterating over a list, range, or string).\n",
        "      - It Iterates over a sequence (like range, list, string, etc.).\n",
        "  * while Loop\n",
        "      - When you don’t know beforehand how many times to loop, but you want to loop until a condition becomes false.\n",
        "      - Repeats as long as the condition is true.\n",
        "\n"
      ],
      "metadata": {
        "id": "yeo7wbSvfBu2"
      }
    },
    {
      "cell_type": "markdown",
      "source": [
        "14. Describe a scenario where a while loop is more suitable than a for loop.\n",
        "  * Scenario: Waiting for user input to be valid.\n",
        "    >       password = \"\"\n",
        "    >       while password != \"secret\":\n",
        "    >         password = input(\"Enter password: \")\n",
        "    >       print(\"Access granted!\")\n",
        "\n",
        "    Here, a while loop is better because we don’t know in advance how many times the loop will run.\n"
      ],
      "metadata": {
        "id": "4RA7QchHfB7G"
      }
    },
    {
      "cell_type": "markdown",
      "source": [
        "# Python Basics -  Practical Questions"
      ],
      "metadata": {
        "id": "kCNEwrE6pJ7R"
      }
    },
    {
      "cell_type": "code",
      "source": [
        "# Question 1. Write a Python program to print \"Hello, World!.\n",
        "\n",
        "print(\"Hello, World!\")"
      ],
      "metadata": {
        "colab": {
          "base_uri": "https://localhost:8080/"
        },
        "id": "GLQz2iIv3jAM",
        "outputId": "21e94624-155b-42e9-e60a-7a755862dd85"
      },
      "execution_count": 1,
      "outputs": [
        {
          "output_type": "stream",
          "name": "stdout",
          "text": [
            "Hello, World!\n"
          ]
        }
      ]
    },
    {
      "cell_type": "code",
      "source": [
        "# Question 2. Write a Python program that displays your name and age.\n",
        "\n",
        "name= \"Yogesh\"\n",
        "age = 37\n",
        "\n",
        "print(\"Your name is \", name,\" and Age is \", age)"
      ],
      "metadata": {
        "colab": {
          "base_uri": "https://localhost:8080/"
        },
        "id": "lbwpT4fU5dVU",
        "outputId": "e9c0ab95-7810-4f4f-b57c-9aa07835bd93"
      },
      "execution_count": 3,
      "outputs": [
        {
          "output_type": "stream",
          "name": "stdout",
          "text": [
            "Your name is  Yogesh  and Age is  37\n"
          ]
        }
      ]
    },
    {
      "cell_type": "code",
      "source": [
        "# Question 3. Write code to print all the pre-defined keywords in Python using the keyword library8\n",
        "\n",
        "import keyword\n",
        "print(\"Python Keywords:\")\n",
        "print(keyword.kwlist)"
      ],
      "metadata": {
        "colab": {
          "base_uri": "https://localhost:8080/"
        },
        "id": "nZmLzx9_5diU",
        "outputId": "f9cbdd9c-9a62-4f74-e0a6-09eea27fb2fb"
      },
      "execution_count": 4,
      "outputs": [
        {
          "output_type": "stream",
          "name": "stdout",
          "text": [
            "Python Keywords:\n",
            "['False', 'None', 'True', 'and', 'as', 'assert', 'async', 'await', 'break', 'class', 'continue', 'def', 'del', 'elif', 'else', 'except', 'finally', 'for', 'from', 'global', 'if', 'import', 'in', 'is', 'lambda', 'nonlocal', 'not', 'or', 'pass', 'raise', 'return', 'try', 'while', 'with', 'yield']\n"
          ]
        }
      ]
    },
    {
      "cell_type": "code",
      "source": [
        "# Question 4. Write a program that checks if a given word is a Python keyword.\n",
        "\n",
        "import keyword\n",
        "\n",
        "word = input(\"Enter a word: \")\n",
        "if keyword.iskeyword(word):\n",
        "    print(f\"'{word}' is a Python keyword.\")\n",
        "else:\n",
        "    print(f\"'{word}' is not a Python keyword.\")\n"
      ],
      "metadata": {
        "colab": {
          "base_uri": "https://localhost:8080/"
        },
        "id": "HpmUyy9c5du0",
        "outputId": "b241bf15-60c1-4d55-dbf6-433153e5fadd"
      },
      "execution_count": 8,
      "outputs": [
        {
          "output_type": "stream",
          "name": "stdout",
          "text": [
            "Enter a word: while\n",
            "'while' is a Python keyword.\n"
          ]
        }
      ]
    },
    {
      "cell_type": "code",
      "source": [
        "# Question 5. Write a function to demonstrate the behavior of mutable and immutable arguments.\n",
        "\n",
        "def modify_values(a, b):\n",
        "    a = a + 10       # Immutable (int)\n",
        "    b.append(10)     # Mutable (list)\n",
        "    print(\"Inside function:\", a, b)\n",
        "\n",
        "x = 5\n",
        "y = [1, 2, 3]\n",
        "modify_values(x, y)\n",
        "print(\"Outside function:\", x, y)\n"
      ],
      "metadata": {
        "colab": {
          "base_uri": "https://localhost:8080/"
        },
        "id": "IGiWF09Z5ecz",
        "outputId": "944c6014-a4cd-4115-88d2-74b9aa3c5a69"
      },
      "execution_count": 9,
      "outputs": [
        {
          "output_type": "stream",
          "name": "stdout",
          "text": [
            "Inside function: 15 [1, 2, 3, 10]\n",
            "Outside function: 5 [1, 2, 3, 10]\n"
          ]
        }
      ]
    },
    {
      "cell_type": "code",
      "source": [
        "# Question 6. Write a program that performs basic arithmetic operations on two user-input numbers.\n",
        "\n",
        "a = float(input(\"Enter first number: \"))\n",
        "b = float(input(\"Enter second number: \"))\n",
        "\n",
        "print(\"Addition:\", a + b)\n",
        "print(\"Subtraction:\", a - b)\n",
        "print(\"Multiplication:\", a * b)\n",
        "print(\"Division:\", a / b)\n"
      ],
      "metadata": {
        "colab": {
          "base_uri": "https://localhost:8080/"
        },
        "id": "SX3mR3Cv5er1",
        "outputId": "639ced47-48f5-4611-ffd0-6ea47cbd0ca6"
      },
      "execution_count": 10,
      "outputs": [
        {
          "output_type": "stream",
          "name": "stdout",
          "text": [
            "Enter first number: 10\n",
            "Enter second number: 5\n",
            "Addition: 15.0\n",
            "Subtraction: 5.0\n",
            "Multiplication: 50.0\n",
            "Division: 2.0\n"
          ]
        }
      ]
    },
    {
      "cell_type": "code",
      "source": [
        "# Question 7. Write a program to demonstrate the use of logical operators.\n",
        "\n",
        "a = 10\n",
        "b = 20\n",
        "\n",
        "print(a > 5 and b > 15)  # True\n",
        "print(a < 5 or b > 15)   # True\n",
        "print(not(a > 5))        # False"
      ],
      "metadata": {
        "colab": {
          "base_uri": "https://localhost:8080/"
        },
        "id": "b5dHiLTX5e4W",
        "outputId": "8f532559-51a2-4a90-886d-c56c064b96ba"
      },
      "execution_count": 11,
      "outputs": [
        {
          "output_type": "stream",
          "name": "stdout",
          "text": [
            "True\n",
            "True\n",
            "False\n"
          ]
        }
      ]
    },
    {
      "cell_type": "code",
      "source": [
        "# Question 8. Create a list and tuple in Python, and demonstrate how attempting to change an element works differently for each.\n",
        "\n",
        "my_list = [1, 2, 3]\n",
        "my_tuple = (1, 2, 3)\n",
        "\n",
        "my_list[0] = 100\n",
        "print(\"Modified list:\", my_list)\n",
        "\n",
        "# Uncommenting below line will raise an error\n",
        "# my_tuple[0] = 100\n",
        "print(\"Tuple can't be modified:\", my_tuple)\n",
        "\n"
      ],
      "metadata": {
        "colab": {
          "base_uri": "https://localhost:8080/"
        },
        "id": "i-QC3_3k5fFO",
        "outputId": "b34bd4e9-e6de-4305-e4ba-7a0dd7167316"
      },
      "execution_count": 12,
      "outputs": [
        {
          "output_type": "stream",
          "name": "stdout",
          "text": [
            "Modified list: [100, 2, 3]\n",
            "Tuple can't be modified: (1, 2, 3)\n"
          ]
        }
      ]
    },
    {
      "cell_type": "code",
      "source": [
        "# Question 9. Write a Python program to convert user input from string to integer, float, and boolean types.\n",
        "\n",
        "s = input(\"Enter a number: \")\n",
        "\n",
        "int_value = int(s)\n",
        "float_value = float(s)\n",
        "bool_value = bool(int(s))  # non-zero = True, zero = False\n",
        "\n",
        "print(\"Integer:\", int_value)\n",
        "print(\"Float:\", float_value)\n",
        "print(\"Boolean:\", bool_value)"
      ],
      "metadata": {
        "colab": {
          "base_uri": "https://localhost:8080/"
        },
        "id": "30bEviyw5fSI",
        "outputId": "99097aad-5c11-4ed7-915b-c0624a61f869"
      },
      "execution_count": 13,
      "outputs": [
        {
          "output_type": "stream",
          "name": "stdout",
          "text": [
            "Enter a number: 5\n",
            "Integer: 5\n",
            "Float: 5.0\n",
            "Boolean: True\n"
          ]
        }
      ]
    },
    {
      "cell_type": "code",
      "source": [
        "# Question 10. Write code to demonstrate type casting with list elements.\n",
        "\n",
        "str_list = ['1', '2', '3']\n",
        "int_list = [int(x) for x in str_list]\n",
        "print(\"Converted list:\", int_list)"
      ],
      "metadata": {
        "colab": {
          "base_uri": "https://localhost:8080/"
        },
        "id": "a6pxCsni5fdg",
        "outputId": "1fea0e53-e50d-4e5c-8ade-d461b2d3b98f"
      },
      "execution_count": 14,
      "outputs": [
        {
          "output_type": "stream",
          "name": "stdout",
          "text": [
            "Converted list: [1, 2, 3]\n"
          ]
        }
      ]
    },
    {
      "cell_type": "code",
      "source": [
        "# Question 11. Write a program that checks if a number is positive, negative, or zero.\n",
        "\n",
        "num = int(input(\"Enter a number that chek it will positive, negative or zero\"))\n",
        "\n",
        "if num>0 :\n",
        "  print(\"number \", num, \"is postive\")\n",
        "elif num<0 :\n",
        "  print(\"number \", num, \"is nigative\")\n",
        "else:\n",
        "  print(\"number \", num, \"is Zero\")"
      ],
      "metadata": {
        "colab": {
          "base_uri": "https://localhost:8080/"
        },
        "id": "H5e0j5O25fvS",
        "outputId": "5a5cf3b3-8c0e-46fd-b6b8-f3d3d31eb18e"
      },
      "execution_count": 16,
      "outputs": [
        {
          "output_type": "stream",
          "name": "stdout",
          "text": [
            "Enter a number that chek it will positive, negative or zero0\n",
            "number  0 is Zero\n"
          ]
        }
      ]
    },
    {
      "cell_type": "code",
      "source": [
        "# Question 12. Write a for loop to print numbers from 1 to 10.\n",
        "\n",
        "for i in range(1,11) :\n",
        "  print(i)"
      ],
      "metadata": {
        "colab": {
          "base_uri": "https://localhost:8080/"
        },
        "id": "Jk791Rtd5f97",
        "outputId": "a0e8f640-27f8-49ae-f990-733d85222192"
      },
      "execution_count": 18,
      "outputs": [
        {
          "output_type": "stream",
          "name": "stdout",
          "text": [
            "1\n",
            "2\n",
            "3\n",
            "4\n",
            "5\n",
            "6\n",
            "7\n",
            "8\n",
            "9\n",
            "10\n"
          ]
        }
      ]
    },
    {
      "cell_type": "code",
      "source": [
        "# Question 13. Write a Python program to find the sum of all even numbers between 1 and 50.\n",
        "\n",
        "# First method\n",
        "total1 = 0\n",
        "for i in range(1,51) :\n",
        "  if i%2==0 :\n",
        "    total1+=i\n",
        "\n",
        "print(\"Sum of all even numbers 1 to 50 is: \",total1)\n",
        "\n",
        "#Second Method\n",
        "total2 = 0\n",
        "for j in range(2,51,2) :\n",
        "  total2+=j\n",
        "\n",
        "print(\"Sum of all even numbers 1 to 50 is: \",total2)"
      ],
      "metadata": {
        "colab": {
          "base_uri": "https://localhost:8080/"
        },
        "id": "AZ2HE5rx5gSX",
        "outputId": "bd309468-d351-419f-b6fb-3efaf8641d18"
      },
      "execution_count": 24,
      "outputs": [
        {
          "output_type": "stream",
          "name": "stdout",
          "text": [
            "Sum of all even numbers 1 to 50 is:  650\n",
            "Sum of all even numbers 1 to 50 is:  650\n"
          ]
        }
      ]
    },
    {
      "cell_type": "code",
      "source": [
        "# Question 14. Write a program to reverse a string using a while loop.\n",
        "\n",
        "s = input(\"Enter a string: \")\n",
        "reversed_str = \"\"\n",
        "i = len(s) - 1\n",
        "\n",
        "while i >= 0:\n",
        "    reversed_str += s[i]\n",
        "    i -= 1\n",
        "\n",
        "print(\"Reversed string:\", reversed_str)"
      ],
      "metadata": {
        "colab": {
          "base_uri": "https://localhost:8080/"
        },
        "id": "QTEvZ5ME5ghZ",
        "outputId": "a8aaa7f6-9f9b-4cf0-8bed-ac1e52e233fd"
      },
      "execution_count": 25,
      "outputs": [
        {
          "output_type": "stream",
          "name": "stdout",
          "text": [
            "Enter a string: Singh\n",
            "Reversed string: hgniS\n"
          ]
        }
      ]
    },
    {
      "cell_type": "code",
      "source": [
        "# Question 15. Write a Python program to calculate the factorial of a number provided by the user using a while loop.\n",
        "\n",
        "num= int(input(\"Enter your number that want to factorial\"))\n",
        "fact=1\n",
        "i=1\n",
        "\n",
        "while i<=num :\n",
        "  fact*=i\n",
        "  i+=1\n",
        "\n",
        "print(\"Factorial of \", num ,\" is \", fact)"
      ],
      "metadata": {
        "colab": {
          "base_uri": "https://localhost:8080/"
        },
        "id": "x4ruoFAa5g1b",
        "outputId": "66db6890-bdab-49c9-e382-c444616af1f1"
      },
      "execution_count": 30,
      "outputs": [
        {
          "output_type": "stream",
          "name": "stdout",
          "text": [
            "Enter your number that want to factorial6\n",
            "Factorial of  6  is  720\n"
          ]
        }
      ]
    }
  ]
}